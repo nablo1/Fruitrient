{
 "cells": [
  {
   "cell_type": "markdown",
   "id": "29c0f44d",
   "metadata": {},
   "source": [
    "# Overview\n",
    "\n",
    "The model works on a small portion of data divided into train and test datasets.\n",
    "\n",
    "The dataset sample consists of X images that are categorized into 33 classes.\n",
    "\n",
    "Each image has a total of 784 pixels, and each pixel value is an integer between 0 and 255."
   ]
  },
  {
   "cell_type": "markdown",
   "id": "b2b0ae6e",
   "metadata": {},
   "source": [
    "# Importing Data"
   ]
  },
  {
   "cell_type": "code",
   "execution_count": 12,
   "id": "6037cc9c",
   "metadata": {},
   "outputs": [],
   "source": [
    "import pandas as pd \n",
    "import numpy as np \n",
    "import matplotlib.pyplot as plt \n",
    "\n",
    "#TODO: \n",
    "#1. read csv files and create dataframes\n",
    "train_df = pd.read_csv('input/train.csv',sep=',')\n",
    "test_df = pd.read_csv('input/test.csv',sep=',')\n",
    "#2. Create arrayes from the files and assign them to training testing variables"
   ]
  },
  {
   "cell_type": "code",
   "execution_count": null,
   "id": "4dbf6426",
   "metadata": {},
   "outputs": [],
   "source": []
  },
  {
   "cell_type": "markdown",
   "id": "b7734c19",
   "metadata": {},
   "source": [
    "# Model Training"
   ]
  },
  {
   "cell_type": "code",
   "execution_count": 10,
   "id": "bd4329e0",
   "metadata": {},
   "outputs": [],
   "source": [
    "import keras\n",
    "from keras.models import Sequential\n",
    "from keras.layers import Conv2D, MaxPooling2D, Dense, Flatten, Dropout\n",
    "from tensorflow.keras.optimizers import Adam\n",
    "from keras.callbacks import TensorBoard\n",
    "\n",
    "#TODO:\n",
    "#1. Split training and testing data into x (pixels) and y (labels)\n",
    "#2. Reshape the data for CNN so the input us in the correct shape\n",
    "#3. Build the CNN model using keras"
   ]
  },
  {
   "cell_type": "markdown",
   "id": "829b6f5f",
   "metadata": {},
   "source": [
    "# Model Evaluation"
   ]
  },
  {
   "cell_type": "code",
   "execution_count": 8,
   "id": "d6404ae5",
   "metadata": {},
   "outputs": [],
   "source": [
    "#TODO: Evaluate model using keras"
   ]
  },
  {
   "cell_type": "markdown",
   "id": "2a6b0f62",
   "metadata": {},
   "source": [
    "# Prediction"
   ]
  },
  {
   "cell_type": "code",
   "execution_count": null,
   "id": "654049f7",
   "metadata": {},
   "outputs": [],
   "source": [
    "#TODO: Use the model to make predictions."
   ]
  }
 ],
 "metadata": {
  "kernelspec": {
   "display_name": "Python 3",
   "language": "python",
   "name": "python3"
  },
  "language_info": {
   "codemirror_mode": {
    "name": "ipython",
    "version": 3
   },
   "file_extension": ".py",
   "mimetype": "text/x-python",
   "name": "python",
   "nbconvert_exporter": "python",
   "pygments_lexer": "ipython3",
   "version": "3.8.8"
  }
 },
 "nbformat": 4,
 "nbformat_minor": 5
}
