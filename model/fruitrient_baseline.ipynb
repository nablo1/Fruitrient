{
 "cells": [
  {
   "cell_type": "code",
   "execution_count": 2,
   "id": "1c333ed1",
   "metadata": {},
   "outputs": [],
   "source": [
    "import pandas as pd # For data manipulation\n",
    "import pandas as pd # For data manipulation\n",
    "import numpy as np # To perform different operations\n",
    "import random\n",
    "import matplotlib.pyplot as plt # For plotting and data visualization\n",
    "from sklearn.ensemble import RandomForestClassifier\n",
    "from sklearn.model_selection import train_test_split #For splitting training data"
   ]
  },
  {
   "cell_type": "code",
   "execution_count": 3,
   "id": "35176b2e",
   "metadata": {},
   "outputs": [],
   "source": [
    "#read csv files and create dataframes for each dataset\n",
    "fruits_train_df = pd.read_csv('input/fruits-train.csv',sep=',')\n",
    "fruits_test_df = pd.read_csv('input/fruits-test.csv',sep=',')\n",
    "quality_train_df = pd.read_csv('input/quality-train.csv',sep=',')\n",
    "quality_test_df = pd.read_csv('input/quality-test.csv',sep=',')"
   ]
  },
  {
   "cell_type": "code",
   "execution_count": 4,
   "id": "5e694c24",
   "metadata": {},
   "outputs": [
    {
     "name": "stdout",
     "output_type": "stream",
     "text": [
      "Fruits training dataset is of shape:  (11787, 785) \n",
      "\n",
      "Fruits testing dataset is of shape:  (5067, 785) \n",
      "\n",
      "Quality training dataset is of shape:  (7628, 786) \n",
      "\n",
      "Quality testing dataset is of shape:  (3273, 786)\n"
     ]
    }
   ],
   "source": [
    "#Print the dataframes shapes\n",
    "print(\"Fruits training dataset is of shape: \", fruits_train_df.shape,\n",
    "     \"\\n\\nFruits testing dataset is of shape: \", fruits_test_df.shape,\n",
    "      \"\\n\\nQuality training dataset is of shape: \", quality_train_df.shape,\n",
    "      \"\\n\\nQuality testing dataset is of shape: \", quality_test_df.shape)"
   ]
  },
  {
   "cell_type": "code",
   "execution_count": 5,
   "id": "7d239a70",
   "metadata": {},
   "outputs": [],
   "source": [
    "# Store data in numpy arrays\n",
    "fruits_training = np.array(fruits_train_df, dtype = 'float32')\n",
    "fruits_testing = np.array(fruits_test_df, dtype='float32')"
   ]
  },
  {
   "cell_type": "code",
   "execution_count": null,
   "id": "6fbfd8c1",
   "metadata": {},
   "outputs": [],
   "source": []
  }
 ],
 "metadata": {
  "kernelspec": {
   "display_name": "Python 3",
   "language": "python",
   "name": "python3"
  },
  "language_info": {
   "codemirror_mode": {
    "name": "ipython",
    "version": 3
   },
   "file_extension": ".py",
   "mimetype": "text/x-python",
   "name": "python",
   "nbconvert_exporter": "python",
   "pygments_lexer": "ipython3",
   "version": "3.8.8"
  }
 },
 "nbformat": 4,
 "nbformat_minor": 5
}
