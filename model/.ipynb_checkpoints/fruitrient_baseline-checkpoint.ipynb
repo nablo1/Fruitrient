{
 "cells": [
  {
   "cell_type": "code",
   "execution_count": 3,
   "id": "1c333ed1",
   "metadata": {},
   "outputs": [],
   "source": [
    "import pandas as pd # For data manipulation\n",
    "import numpy as np # To perform different operations\n",
    "import random\n",
    "import matplotlib.pyplot as plt # For plotting and data visualization\n",
    "from sklearn.ensemble import RandomForestClassifier\n",
    "from sklearn.model_selection import train_test_split #For splitting training data"
   ]
  },
  {
   "cell_type": "code",
   "execution_count": null,
   "id": "35176b2e",
   "metadata": {},
   "outputs": [],
   "source": []
  }
 ],
 "metadata": {
  "kernelspec": {
   "display_name": "Python 3",
   "language": "python",
   "name": "python3"
  },
  "language_info": {
   "codemirror_mode": {
    "name": "ipython",
    "version": 3
   },
   "file_extension": ".py",
   "mimetype": "text/x-python",
   "name": "python",
   "nbconvert_exporter": "python",
   "pygments_lexer": "ipython3",
   "version": "3.8.8"
  }
 },
 "nbformat": 4,
 "nbformat_minor": 5
}
