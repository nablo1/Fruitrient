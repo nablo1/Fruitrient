{
 "cells": [
  {
   "cell_type": "markdown",
   "id": "e2324437",
   "metadata": {},
   "source": [
    "# Importing external modules"
   ]
  },
  {
   "cell_type": "code",
   "execution_count": 17,
   "id": "2220462d",
   "metadata": {},
   "outputs": [],
   "source": [
    "import pandas as pd \n",
    "import numpy as np \n",
    "\n",
    "import matplotlib.pyplot as plt\n",
    "import utils\n",
    "\n",
    "from keras.models import Sequential\n",
    "from keras.layers import Conv2D, MaxPooling2D\n",
    "from keras.layers import Activation, Dropout, Flatten, Dense\n",
    "\n",
    "import time\n",
    "from keras.models import load_model\n",
    "from keras.preprocessing.image import ImageDataGenerator, array_to_img, img_to_array, load_img"
   ]
  },
  {
   "cell_type": "markdown",
   "id": "162d5416",
   "metadata": {},
   "source": [
    "# Loading and processing data"
   ]
  },
  {
   "cell_type": "markdown",
   "id": "7e858da6",
   "metadata": {},
   "source": [
    "### Variables"
   ]
  },
  {
   "cell_type": "code",
   "execution_count": 2,
   "id": "924d03f3",
   "metadata": {},
   "outputs": [],
   "source": [
    "img_px = 224\n",
    "epochs = 5\n",
    "batch_size = 32\n",
    "train_dir = 'data/train'\n",
    "validation_dir = 'data/validation'\n",
    "test_dir = 'data/test'"
   ]
  },
  {
   "cell_type": "markdown",
   "id": "0da15a62",
   "metadata": {},
   "source": [
    "### Construct directories and split images into train, validation and test sub-folders"
   ]
  },
  {
   "cell_type": "code",
   "execution_count": 4,
   "id": "1ca8b618",
   "metadata": {
    "scrolled": true
   },
   "outputs": [
    {
     "name": "stdout",
     "output_type": "stream",
     "text": [
      "7098 2027 1019\n"
     ]
    }
   ],
   "source": [
    "utils.split_images('./images', './data')"
   ]
  },
  {
   "cell_type": "markdown",
   "id": "108d841a",
   "metadata": {},
   "source": [
    "### Data augmentation and image data generator"
   ]
  },
  {
   "cell_type": "code",
   "execution_count": 3,
   "id": "e0c033f6",
   "metadata": {
    "scrolled": false
   },
   "outputs": [
    {
     "name": "stdout",
     "output_type": "stream",
     "text": [
      "Found 7098 images belonging to 6 classes.\n",
      "Found 2027 images belonging to 6 classes.\n"
     ]
    }
   ],
   "source": [
    "train_datagen = ImageDataGenerator(\n",
    "    rotation_range = 40,\n",
    "    width_shift_range = 0.2,\n",
    "    height_shift_range = 0.2,\n",
    "    rescale = 1./255,\n",
    "    shear_range = 0.2,\n",
    "    zoom_range = 0.2,\n",
    "    horizontal_flip = True)\n",
    "\n",
    "validation_datagen = ImageDataGenerator(rescale=1./255)\n",
    "\n",
    "train_generator = train_datagen.flow_from_directory(\n",
    "    train_dir,\n",
    "    batch_size=batch_size,\n",
    "    color_mode=\"rgb\",\n",
    "    target_size=(img_px, img_px),\n",
    "    class_mode='sparse')\n",
    "\n",
    "validation_generator = validation_datagen.flow_from_directory(\n",
    "    validation_dir,\n",
    "    batch_size=batch_size,\n",
    "    color_mode=\"rgb\",\n",
    "    target_size=(img_px, img_px),\n",
    "    class_mode='sparse')"
   ]
  },
  {
   "cell_type": "markdown",
   "id": "4b07d8ea",
   "metadata": {},
   "source": [
    "### Variables"
   ]
  },
  {
   "cell_type": "code",
   "execution_count": 4,
   "id": "a0672e89",
   "metadata": {},
   "outputs": [],
   "source": [
    "train_images_nb = len(train_generator.filenames)\n",
    "validation_images_nb = len(validation_generator.filenames)\n",
    "nb_classes = len(train_generator.class_indices)\n",
    "classes = train_generator.class_indices"
   ]
  },
  {
   "cell_type": "code",
   "execution_count": 5,
   "id": "6a8bd125",
   "metadata": {},
   "outputs": [
    {
     "data": {
      "text/plain": [
       "{'fresh_apple': 0,\n",
       " 'fresh_banana': 1,\n",
       " 'fresh_orange': 2,\n",
       " 'stale_apple': 3,\n",
       " 'stale_banana': 4,\n",
       " 'stale_orange': 5}"
      ]
     },
     "execution_count": 5,
     "metadata": {},
     "output_type": "execute_result"
    }
   ],
   "source": [
    "classes"
   ]
  },
  {
   "cell_type": "markdown",
   "id": "bd119049",
   "metadata": {},
   "source": [
    "# Model training"
   ]
  },
  {
   "cell_type": "markdown",
   "id": "11fc4bd3",
   "metadata": {},
   "source": [
    "### Sequential model"
   ]
  },
  {
   "cell_type": "code",
   "execution_count": 6,
   "id": "2048a1e6",
   "metadata": {},
   "outputs": [
    {
     "name": "stdout",
     "output_type": "stream",
     "text": [
      "Model: \"sequential\"\n",
      "_________________________________________________________________\n",
      "Layer (type)                 Output Shape              Param #   \n",
      "=================================================================\n",
      "conv2d (Conv2D)              (None, 222, 222, 32)      896       \n",
      "_________________________________________________________________\n",
      "activation (Activation)      (None, 222, 222, 32)      0         \n",
      "_________________________________________________________________\n",
      "max_pooling2d (MaxPooling2D) (None, 111, 111, 32)      0         \n",
      "_________________________________________________________________\n",
      "conv2d_1 (Conv2D)            (None, 109, 109, 64)      18496     \n",
      "_________________________________________________________________\n",
      "activation_1 (Activation)    (None, 109, 109, 64)      0         \n",
      "_________________________________________________________________\n",
      "max_pooling2d_1 (MaxPooling2 (None, 54, 54, 64)        0         \n",
      "_________________________________________________________________\n",
      "flatten (Flatten)            (None, 186624)            0         \n",
      "_________________________________________________________________\n",
      "dense (Dense)                (None, 64)                11944000  \n",
      "_________________________________________________________________\n",
      "activation_2 (Activation)    (None, 64)                0         \n",
      "_________________________________________________________________\n",
      "dropout (Dropout)            (None, 64)                0         \n",
      "_________________________________________________________________\n",
      "dense_1 (Dense)              (None, 6)                 390       \n",
      "_________________________________________________________________\n",
      "activation_3 (Activation)    (None, 6)                 0         \n",
      "=================================================================\n",
      "Total params: 11,963,782\n",
      "Trainable params: 11,963,782\n",
      "Non-trainable params: 0\n",
      "_________________________________________________________________\n"
     ]
    }
   ],
   "source": [
    "cnn = Sequential()\n",
    "\n",
    "cnn.add(Conv2D(filters=32, \n",
    "               kernel_size=(3,3), \n",
    "               input_shape=(img_px, img_px, 3)))\n",
    "cnn.add(Activation('relu'))\n",
    "cnn.add(MaxPooling2D(pool_size=(2,2)))\n",
    "\n",
    "cnn.add(Conv2D(filters=64,\n",
    "               kernel_size=(3,3)))\n",
    "cnn.add(Activation('relu'))\n",
    "cnn.add(MaxPooling2D(pool_size=(2,2)))\n",
    "\n",
    "cnn.add(Flatten())        \n",
    "cnn.add(Dense(64))\n",
    "cnn.add(Activation('relu'))\n",
    "cnn.add(Dropout(0.25))\n",
    "cnn.add(Dense(nb_classes))\n",
    "cnn.add(Activation('Softmax'))\n",
    "\n",
    "cnn.compile(loss='sparse_categorical_crossentropy', optimizer='rmsprop', metrics=['accuracy'])\n",
    "cnn.summary()"
   ]
  },
  {
   "cell_type": "markdown",
   "id": "1664a605",
   "metadata": {},
   "source": [
    "### Training model for 10 epochs"
   ]
  },
  {
   "cell_type": "code",
   "execution_count": 7,
   "id": "7d874e60",
   "metadata": {
    "scrolled": true
   },
   "outputs": [
    {
     "name": "stderr",
     "output_type": "stream",
     "text": [
      "/home/nablo/anaconda3/lib/python3.8/site-packages/keras/engine/training.py:1972: UserWarning: `Model.fit_generator` is deprecated and will be removed in a future version. Please use `Model.fit`, which supports generators.\n",
      "  warnings.warn('`Model.fit_generator` is deprecated and '\n"
     ]
    },
    {
     "name": "stdout",
     "output_type": "stream",
     "text": [
      "Epoch 1/5\n",
      "221/221 [==============================] - 393s 2s/step - loss: 1.5269 - accuracy: 0.5524 - val_loss: 0.4732 - val_accuracy: 0.8433\n",
      "Epoch 2/5\n",
      "221/221 [==============================] - 320s 1s/step - loss: 0.7793 - accuracy: 0.7287 - val_loss: 0.4172 - val_accuracy: 0.8591\n",
      "Epoch 3/5\n",
      "221/221 [==============================] - 311s 1s/step - loss: 0.6896 - accuracy: 0.7663 - val_loss: 0.3550 - val_accuracy: 0.8681\n",
      "Epoch 4/5\n",
      "221/221 [==============================] - 327s 1s/step - loss: 0.6028 - accuracy: 0.7973 - val_loss: 0.3468 - val_accuracy: 0.8844\n",
      "Epoch 5/5\n",
      "221/221 [==============================] - 313s 1s/step - loss: 0.5833 - accuracy: 0.7992 - val_loss: 0.4061 - val_accuracy: 0.8507\n",
      "Processing time: 27.748190446694693\n"
     ]
    }
   ],
   "source": [
    "start = time.time()\n",
    "history = cnn.fit_generator(\n",
    "    train_generator,\n",
    "    steps_per_epoch=train_images_nb//batch_size,\n",
    "    epochs=epochs,\n",
    "    validation_data=validation_generator,\n",
    "    validation_steps=validation_images_nb//batch_size\n",
    ")\n",
    "end = time.time()\n",
    "print('Processing time:',(end - start)/60)"
   ]
  },
  {
   "cell_type": "markdown",
   "id": "fafea992",
   "metadata": {},
   "source": [
    "### Plotting loss and accuracy throughout the epochs"
   ]
  },
  {
   "cell_type": "code",
   "execution_count": 8,
   "id": "0b05948e",
   "metadata": {
    "scrolled": true
   },
   "outputs": [
    {
     "data": {
      "text/plain": [
       "<Figure size 432x288 with 0 Axes>"
      ]
     },
     "execution_count": 8,
     "metadata": {},
     "output_type": "execute_result"
    },
    {
     "data": {
      "image/png": "[encoded data removed]",
      "text/plain": [
       "<Figure size 432x288 with 1 Axes>"
      ]
     },
     "metadata": {
      "needs_background": "light"
     },
     "output_type": "display_data"
    },
    {
     "data": {
      "image/png": "[encoded data removed]",
      "text/plain": [
       "<Figure size 432x288 with 1 Axes>"
      ]
     },
     "metadata": {
      "needs_background": "light"
     },
     "output_type": "display_data"
    },
    {
     "data": {
      "text/plain": [
       "<Figure size 432x288 with 0 Axes>"
      ]
     },
     "metadata": {},
     "output_type": "display_data"
    }
   ],
   "source": [
    "acc = history.history['accuracy']\n",
    "val_acc = history.history['val_accuracy']\n",
    "loss = history.history['loss']\n",
    "val_loss = history.history['val_loss']\n",
    "\n",
    "epochs = range(len(acc))\n",
    "\n",
    "plt.plot(epochs, acc, 'y')\n",
    "plt.plot(epochs, val_acc, 'g')\n",
    "plt.title('Training and Validation Accuracy')\n",
    "plt.ylabel('accuracy')\n",
    "plt.xlabel('epoch')\n",
    "plt.legend(['train', 'val'], loc='upper left')\n",
    "plt.figure()\n",
    "\n",
    "plt.plot(epochs, loss, 'y')\n",
    "plt.plot(epochs, val_loss, 'g')\n",
    "plt.ylabel('loss')\n",
    "plt.xlabel('epoch')\n",
    "plt.legend(['train', 'val'], loc='upper left')\n",
    "plt.title('Training and Validaion Loss')\n",
    "plt.figure()"
   ]
  },
  {
   "cell_type": "markdown",
   "id": "8469ff27",
   "metadata": {},
   "source": [
    "# Model evaluation"
   ]
  },
  {
   "cell_type": "code",
   "execution_count": 19,
   "id": "f561a92d",
   "metadata": {},
   "outputs": [
    {
     "name": "stdout",
     "output_type": "stream",
     "text": [
      "Found 1019 images belonging to 6 classes.\n",
      "1019/1019 [==============================] - 17s 17ms/step - loss: 0.4596 - accuracy: 0.8400\n",
      "Accuracy on test dataset:  0.8400392532348633\n",
      "Loss on test dataset:  0.45964697003364563\n"
     ]
    }
   ],
   "source": [
    "test_datagen = ImageDataGenerator(rescale=1./255)\n",
    "\n",
    "test_generator = train_datagen.flow_from_directory(\n",
    "    'data/test',\n",
    "    batch_size=1,\n",
    "    color_mode=\"rgb\",\n",
    "    target_size=(224, 224),\n",
    "    class_mode='sparse')\n",
    "\n",
    "test_images_nb = len(test_generator.filenames)\n",
    "\n",
    "loss_test, acc_test = cnn.evaluate(test_generator,steps = test_images_nb, verbose=1)\n",
    "print('Accuracy on test dataset: ',acc_test)\n",
    "print('Loss on test dataset: ',loss_test)"
   ]
  },
  {
   "cell_type": "markdown",
   "id": "2c6cfee5",
   "metadata": {},
   "source": [
    "# Making predictions"
   ]
  },
  {
   "cell_type": "code",
   "execution_count": 22,
   "id": "563856d1",
   "metadata": {},
   "outputs": [
    {
     "name": "stdout",
     "output_type": "stream",
     "text": [
      "[3 3 3 ... 0 1 1]\n"
     ]
    }
   ],
   "source": [
    "prediction=cnn.predict(test_generator)\n",
    "predicted_classes = np.argmax(prediction,axis=1)\n",
    "print(predicted_classes)"
   ]
  },
  {
   "cell_type": "markdown",
   "id": "17465fb9",
   "metadata": {},
   "source": [
    "### Saving the model "
   ]
  },
  {
   "cell_type": "code",
   "execution_count": 20,
   "id": "f61ea319",
   "metadata": {},
   "outputs": [],
   "source": [
    "cnn.save('cnn_rgb_model.h5') "
   ]
  },
  {
   "cell_type": "code",
   "execution_count": null,
   "id": "c0981abf",
   "metadata": {},
   "outputs": [],
   "source": []
  }
 ],
 "metadata": {
  "kernelspec": {
   "display_name": "Python 3",
   "language": "python",
   "name": "python3"
  },
  "language_info": {
   "codemirror_mode": {
    "name": "ipython",
    "version": 3
   },
   "file_extension": ".py",
   "mimetype": "text/x-python",
   "name": "python",
   "nbconvert_exporter": "python",
   "pygments_lexer": "ipython3",
   "version": "3.8.8"
  }
 },
 "nbformat": 4,
 "nbformat_minor": 5
}
